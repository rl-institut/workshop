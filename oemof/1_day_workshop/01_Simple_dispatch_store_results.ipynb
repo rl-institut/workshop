{
 "cells": [
  {
   "cell_type": "markdown",
   "metadata": {},
   "source": [
    "# Energy system optimisation with oemof"
   ]
  },
  {
   "cell_type": "code",
   "execution_count": null,
   "metadata": {},
   "outputs": [],
   "source": []
  },
  {
   "cell_type": "markdown",
   "metadata": {},
   "source": [
    "### Import modules"
   ]
  },
  {
   "cell_type": "code",
   "execution_count": 1,
   "metadata": {},
   "outputs": [],
   "source": [
    "import os\n",
    "import pandas as pd\n",
    "\n",
    "from oemof.solph import (Sink, Source, Transformer, Bus, Flow,\n",
    "                         EnergySystem, Model)\n",
    "import oemof.outputlib as outputlib"
   ]
  },
  {
   "cell_type": "markdown",
   "metadata": {},
   "source": [
    "### Specify solver"
   ]
  },
  {
   "cell_type": "code",
   "execution_count": 2,
   "metadata": {},
   "outputs": [],
   "source": [
    "solver = 'cbc'"
   ]
  },
  {
   "cell_type": "markdown",
   "metadata": {},
   "source": [
    "### Create an energy system and load data"
   ]
  },
  {
   "cell_type": "code",
   "execution_count": 3,
   "metadata": {},
   "outputs": [],
   "source": [
    "datetimeindex = pd.date_range('1/1/2016', periods=24*10, freq='H')\n",
    "energysystem = EnergySystem(timeindex=datetimeindex)\n",
    "filename = 'input_data.csv'\n",
    "data = pd.read_csv(filename, sep=\",\")"
   ]
  },
  {
   "cell_type": "markdown",
   "metadata": {},
   "source": [
    "### Create components and add them to the energysystem"
   ]
  },
  {
   "cell_type": "code",
   "execution_count": 4,
   "metadata": {},
   "outputs": [],
   "source": [
    "# resource buses\n",
    "bus_coal = Bus(label='coal', balanced=False)\n",
    "bus_gas = Bus(label='gas', balanced=False)\n",
    "bus_oil = Bus(label='oil', balanced=False)\n",
    "bus_lig = Bus(label='lignite', balanced=False)"
   ]
  },
  {
   "cell_type": "code",
   "execution_count": 5,
   "metadata": {},
   "outputs": [],
   "source": [
    "# electricity and heat buses\n",
    "bus_el = Bus(label='electricity')\n",
    "bus_th = Bus(label='heat')"
   ]
  },
  {
   "cell_type": "code",
   "execution_count": 6,
   "metadata": {},
   "outputs": [],
   "source": [
    "# an excess and a shortage variable can help to avoid infeasible problems\n",
    "excess_el = Sink(label='excess_el', inputs={bus_el: Flow()})\n",
    "\n",
    "shortage_el = Source(label='shortage_el',\n",
    "                     outputs={bus_el: Flow(variable_costs=200)})"
   ]
  },
  {
   "cell_type": "code",
   "execution_count": 7,
   "metadata": {},
   "outputs": [],
   "source": [
    "# Renewable feedin\n",
    "wind = Source(label='wind', outputs={bus_el: Flow(\n",
    "              actual_value=data['wind'], nominal_value=66.3, fixed=True)})\n",
    "\n",
    "pv = Source(label='pv', outputs={bus_el: Flow(\n",
    "            actual_value=data['pv'], nominal_value=65.3, fixed=True)})"
   ]
  },
  {
   "cell_type": "code",
   "execution_count": 8,
   "metadata": {},
   "outputs": [],
   "source": [
    "# Electricity/heat demand\n",
    "demand_el = Sink(label='demand_el', inputs={bus_el: Flow(\n",
    "                 nominal_value=85, actual_value=data['demand_el'], fixed=True)})\n",
    "\n",
    "demand_th = Sink(label='demand_th',\n",
    "                 inputs={bus_th: Flow(nominal_value=40,\n",
    "                                   actual_value=data['demand_th'],\n",
    "                                   fixed=True)})"
   ]
  },
  {
   "cell_type": "code",
   "execution_count": 9,
   "metadata": {},
   "outputs": [],
   "source": [
    "energysystem.add(bus_coal, bus_gas, bus_oil, bus_lig, bus_el, bus_th,\n",
    "                 excess_el, shortage_el, wind, pv, demand_el, demand_th)"
   ]
  },
  {
   "cell_type": "code",
   "execution_count": 10,
   "metadata": {},
   "outputs": [],
   "source": [
    "# power plants\n",
    "pp_coal = Transformer(label='pp_coal',\n",
    "                      inputs={bus_coal: Flow()},\n",
    "                      outputs={bus_el: Flow(nominal_value=20.2, variable_costs=25)},\n",
    "                      conversion_factors={bus_el: 0.39})\n",
    "\n",
    "pp_lig = Transformer(label='pp_lig',\n",
    "                     inputs={bus_lig: Flow()},\n",
    "                     outputs={bus_el: Flow(nominal_value=11.8, variable_costs=19)},\n",
    "                     conversion_factors={bus_el: 0.41})\n",
    "\n",
    "pp_gas = Transformer(label='pp_gas',\n",
    "                     inputs={bus_gas: Flow()},\n",
    "                     outputs={bus_el: Flow(nominal_value=41, variable_costs=40)},\n",
    "                     conversion_factors={bus_el: 0.50})\n",
    "\n",
    "pp_oil = Transformer(label='pp_oil',\n",
    "                     inputs={bus_oil: Flow()},\n",
    "                     outputs={bus_el: Flow(nominal_value=5, variable_costs=50)},\n",
    "                     conversion_factors={bus_el: 0.28})\n",
    "\n",
    "energysystem.add(pp_coal, pp_lig, pp_gas, pp_oil)"
   ]
  },
  {
   "cell_type": "code",
   "execution_count": 11,
   "metadata": {},
   "outputs": [],
   "source": [
    "# combined heat and power plant (chp)\n",
    "chp = Transformer(label='pp_chp',\n",
    "                  inputs={bus_gas: Flow()},\n",
    "                  outputs={bus_el: Flow(nominal_value=30, variable_costs=42),\n",
    "                           bus_th: Flow(nominal_value=40)},\n",
    "                  conversion_factors={bus_el: 0.3, bus_th: 0.4})"
   ]
  },
  {
   "cell_type": "code",
   "execution_count": 12,
   "metadata": {},
   "outputs": [],
   "source": [
    "# heat pump with a coefficient of performance (COP) of 3\n",
    "b_heat_source = Bus(label='b_heat_source')\n",
    "energysystem.add(b_heat_source)\n",
    "\n",
    "energysystem.add(Source(label='heat_source', outputs={b_heat_source: Flow()}))\n",
    "\n",
    "cop = 3\n",
    "heat_pump = Transformer(label='heat_pump',\n",
    "            inputs={bus_el: Flow(),\n",
    "                    b_heat_source: Flow()},\n",
    "            outputs={bus_th: Flow(nominal_value=10)},\n",
    "            conversion_factors={bus_el: 1/3, b_heat_source: (cop-1)/cop})\n",
    "\n",
    "energysystem.add(chp, heat_pump)"
   ]
  },
  {
   "cell_type": "markdown",
   "metadata": {},
   "source": [
    "### Optimization"
   ]
  },
  {
   "cell_type": "code",
   "execution_count": 13,
   "metadata": {},
   "outputs": [
    {
     "data": {
      "text/plain": [
       "{'Problem': [{'Name': 'unknown', 'Lower bound': 383538.2988, 'Upper bound': 383538.2988, 'Number of objectives': 1, 'Number of constraints': 2641, 'Number of variables': 4081, 'Number of nonzeros': 1344, 'Sense': 'minimize'}], 'Solver': [{'Status': 'ok', 'User time': -1.0, 'System time': 0.02, 'Wallclock time': 0.02, 'Termination condition': 'optimal', 'Termination message': 'Model was solved to optimality (subject to tolerances), and an optimal solution is available.', 'Statistics': {'Branch and bound': {'Number of bounded subproblems': None, 'Number of created subproblems': None}, 'Black box': {'Number of iterations': 224}}, 'Error rc': 0, 'Time': 0.031032323837280273}], 'Solution': [OrderedDict([('number of solutions', 0), ('number of solutions displayed', 0)])]}"
      ]
     },
     "execution_count": 13,
     "metadata": {},
     "output_type": "execute_result"
    }
   ],
   "source": [
    "# create optimization model based on energy_system\n",
    "optimization_model = Model(energysystem=energysystem)\n",
    "\n",
    "# solve problem\n",
    "optimization_model.solve(solver=solver)"
   ]
  },
  {
   "cell_type": "markdown",
   "metadata": {},
   "source": [
    "### Write results into energysystem.results object for later"
   ]
  },
  {
   "cell_type": "code",
   "execution_count": 14,
   "metadata": {},
   "outputs": [],
   "source": [
    "energysystem.results['main'] = outputlib.processing.results(optimization_model)\n",
    "energysystem.results['meta'] = outputlib.processing.meta_results(optimization_model)"
   ]
  },
  {
   "cell_type": "code",
   "execution_count": 15,
   "metadata": {},
   "outputs": [],
   "source": [
    "string_results = outputlib.views.convert_keys_to_strings(energysystem.results['main'])"
   ]
  },
  {
   "cell_type": "markdown",
   "metadata": {},
   "source": [
    "### Save results - Dump the energysystem (to ~/home/user/.oemof by default)\n",
    "Specify path and filename if you do not want to overwrite"
   ]
  },
  {
   "cell_type": "code",
   "execution_count": 16,
   "metadata": {},
   "outputs": [
    {
     "data": {
      "text/plain": [
       "'Attributes dumped to: /home/jann/.oemof/dumps/es_dump.oemof'"
      ]
     },
     "execution_count": 16,
     "metadata": {},
     "output_type": "execute_result"
    }
   ],
   "source": [
    "energysystem.dump(dpath=None, filename=None)"
   ]
  }
 ],
 "metadata": {
  "kernelspec": {
   "display_name": "Python 3",
   "language": "python",
   "name": "python3"
  },
  "language_info": {
   "codemirror_mode": {
    "name": "ipython",
    "version": 3
   },
   "file_extension": ".py",
   "mimetype": "text/x-python",
   "name": "python",
   "nbconvert_exporter": "python",
   "pygments_lexer": "ipython3",
   "version": "3.6.7"
  }
 },
 "nbformat": 4,
 "nbformat_minor": 2
}
