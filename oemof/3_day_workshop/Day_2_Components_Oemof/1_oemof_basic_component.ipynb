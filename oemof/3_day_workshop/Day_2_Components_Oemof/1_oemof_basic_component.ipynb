{
 "cells": [
  {
   "cell_type": "markdown",
   "metadata": {},
   "source": [
    "# Oemof Component Models\n",
    "\n",
    "**Please note, that this tutorial refers to v:0.3.1 Buggy Battery and its licenced by GPL v3.0. The concept was created by @srhbrnds in Sep 2019**\n",
    "\n",
    "Component Models in omeof are categorized in three different categories: \n",
    "* Basic (oemof.solph.network)\n",
    "* Components (oemof.solph.components)\n",
    "* Custom (oemof.solph.custom)\n",
    "\n",
    "![Oemof components classification](./graphics/oemof_component_classification_inkscape.svg)"
   ]
  },
  {
   "cell_type": "markdown",
   "metadata": {},
   "source": [
    "## Basic Components\n",
    "\n",
    "* **Sink:**\n",
    "object with n-inputs / \n",
    "examples: demand, excess electricity\n",
    "![Sink Component](./graphics/components_basic_sink.svg)\n",
    "\n",
    "### Lets build a Sink component model together in oemof! \n",
    "We model the electricity demand (demand_el) as a Sink and assign a fixed output timeseries to it.\n",
    "\n",
    "To do so, we need to do the initialization first!\n",
    "\n",
    "**1)** we collect our necessary tools (import packages)"
   ]
  },
  {
   "cell_type": "code",
   "execution_count": null,
   "metadata": {},
   "outputs": [],
   "source": [
    "from matplotlib import pyplot as plt\n",
    "import pandas as pd\n",
    "import oemof.solph as solph\n",
    "from oemof.tools import economics\n",
    "import oemof.outputlib as outputlib\n",
    "import logging"
   ]
  },
  {
   "cell_type": "markdown",
   "metadata": {},
   "source": [
    "**2)** we initiaize the EnergySystem in oemof "
   ]
  },
  {
   "cell_type": "code",
   "execution_count": null,
   "metadata": {},
   "outputs": [],
   "source": [
    "# Initialize a timeindex with the help of pandas.date_range() for one year (2017) \n",
    "# with hourly time increments\n",
    "\n",
    "timeindex = pd.date_range('1/1/2017', periods=8760, freq='H')\n",
    "\n",
    "# Initialize the energy system and hand over the timeindex\n",
    "es = solph.EnergySystem(timeindex=timeindex)\n",
    "\n",
    "# Initialize a first node, the electricity bus (bus_el)\n",
    "bel=solph.Bus(label='bus_el')\n",
    "\n",
    "es.add(bel)"
   ]
  },
  {
   "cell_type": "markdown",
   "metadata": {},
   "source": [
    "**3)** read in a data set"
   ]
  },
  {
   "cell_type": "code",
   "execution_count": null,
   "metadata": {},
   "outputs": [],
   "source": [
    "# cost dictionary\n",
    "costs = {'pp_pv': {\n",
    "             'epc': economics.annuity(capex=750, n=20, wacc=0.05)},\n",
    "         'pp_diesel': {\n",
    "             'epc': economics.annuity(capex=300, n=10, wacc=0.05),\n",
    "             'var': 0}}"
   ]
  },
  {
   "cell_type": "code",
   "execution_count": null,
   "metadata": {},
   "outputs": [],
   "source": [
    "#read in a dataset as pandas DataFrame\n",
    "data=pd.read_csv('./1_timeseries.csv')\n",
    "data.plot()"
   ]
  },
  {
   "cell_type": "markdown",
   "metadata": {},
   "source": [
    "**4)** we create a Sink obejct and assign the variable name and specify the label as *demand_el*"
   ]
  },
  {
   "cell_type": "code",
   "execution_count": null,
   "metadata": {},
   "outputs": [],
   "source": [
    "#Create Sink object for demand_el\n",
    "demand=solph.Sink(label='demand_el', inputs={bel:solph.Flow()})\n",
    "\n",
    "if isinstance(demand,solph.Sink):\n",
    "    print(\"Congrats you created a Sink object! Add a timeseries to the input Flow object\")  \n",
    "else:\n",
    "    print(\"Something went wrong! Try it again\")\n"
   ]
  },
  {
   "cell_type": "code",
   "execution_count": null,
   "metadata": {},
   "outputs": [],
   "source": [
    "#Create Sink object for demand_el with parameterization in the Flow object\n",
    "demand=solph.Sink(label='demand_el', inputs={bel:solph.Flow(actual_value=data['demand_el'],\n",
    "                                                            nominal_value=500, \n",
    "                                                            fixed=True)})\n",
    "\n",
    "# add demand to the EnergySystem \n",
    "es.add(demand)\n",
    "\n",
    "# Create Sink object for excess electricty\n",
    "excess_sink = solph.Sink(label='excess',\n",
    "                    inputs={bel: solph.Flow()})\n",
    "es.add(excess_sink)"
   ]
  },
  {
   "cell_type": "markdown",
   "metadata": {},
   "source": [
    "* **Source:**\n",
    "object with m-outputs / examples: fuel commodities, PV systems\n",
    "\n",
    "![Source Component](./graphics/components_basic_source.svg)\n",
    "\n",
    "### Lets build a Source component model together in oemof! \n",
    "We model the pv output (pv) as a Source and assign a fixed output timeseries to it.   \n",
    "\n",
    "**Hint!** You can download RE time series from here: https://www.renewables.ninja/"
   ]
  },
  {
   "cell_type": "code",
   "execution_count": null,
   "metadata": {},
   "outputs": [],
   "source": [
    "pv_plant= solph.Source(label='pp_pv',\n",
    "                 outputs={bel: solph.Flow(nominal_value=None,\n",
    "                                            fixed=True,\n",
    "                                            actual_value=data['pv'],\n",
    "                                            investment=solph.Investment(\n",
    "                                                ep_costs=costs['pp_pv']['epc']))})\n",
    "\n",
    "es.add(pv_plant)"
   ]
  },
  {
   "cell_type": "markdown",
   "metadata": {},
   "source": [
    "\n",
    "* **Transformer:** \n",
    "object with n-inputs and m-outputs and an input-output relation\n",
    "\n",
    "![Transformer Component](./graphics/components_basic_transformer_io_relation.svg)\n",
    "\n",
    "### Lets build a Transformer component model together in oemof! \n",
    "We model a diesel generator as a transformer. The generator runs on diesel from a fuel commodity and transfers it with a constant conversion factor of 33%. \n"
   ]
  },
  {
   "cell_type": "code",
   "execution_count": null,
   "metadata": {},
   "outputs": [],
   "source": [
    "#add a gas Bus as input for the transformer\n",
    "bfuel=solph.Bus(label='bus_diesel')\n",
    "\n",
    "# create a Source for the fuel source as input for the diesel genset\n",
    "fuel_source=solph.Source(label='diesel',outputs={bfuel:solph.Flow()})\n",
    "\n",
    "#create a Transformer for the diesel_genset\n",
    "genset=solph.Transformer(label=\"diesel_genset\",\n",
    "                           inputs={bfuel: solph.Flow(variable_costs=0.03)},\n",
    "                           outputs={bel: solph.Flow(\n",
    "                               variable_costs=costs['pp_diesel']['var'],\n",
    "                               investment=solph.Investment(maximum=300,\n",
    "                                   ep_costs=costs['pp_diesel']['epc']))},\n",
    "                           conversion_factors={bel: 0.33}\n",
    "                           )\n",
    "\n",
    "#Add multiple components to the EnergySystem\n",
    "es.add(genset, fuel_source, bfuel)"
   ]
  },
  {
   "cell_type": "markdown",
   "metadata": {},
   "source": [
    "### Solve the energy system model\n",
    "\n",
    "Now we created a simple microgrid that will be translated into a operational model (m) in the next step and than solved by the open source solver cbc."
   ]
  },
  {
   "cell_type": "code",
   "execution_count": null,
   "metadata": {},
   "outputs": [],
   "source": [
    "print('\\n')\n",
    "logging.info('Initializing model')\n",
    "m = solph.Model(es)\n",
    "\n",
    "# m.write(filename, io_options={'symbolic_solver_labels': True})\n",
    "\n",
    "logging.info('Starting oemof-optimization of capacities')\n",
    "m.solve(solver='cbc', solve_kwargs={'tee': False})"
   ]
  },
  {
   "cell_type": "markdown",
   "metadata": {},
   "source": [
    "### Postprocessing the results"
   ]
  },
  {
   "cell_type": "code",
   "execution_count": null,
   "metadata": {},
   "outputs": [],
   "source": [
    "results = outputlib.processing.results(m)\n",
    "\n",
    "el_bus = outputlib.views.node(results, 'bus_el')\n",
    "cap_pv = el_bus['scalars'][(('pp_pv', 'bus_el'), 'invest')]\n",
    "cap_genset = el_bus['scalars'][(('diesel_genset', 'bus_el'), 'invest')]\n",
    "\n",
    "print('PV capacity in [kW]:' + str(cap_pv))\n",
    "print('Diesel genset capacity in [kW]:' + str(cap_genset))\n"
   ]
  },
  {
   "cell_type": "code",
   "execution_count": null,
   "metadata": {},
   "outputs": [],
   "source": [
    "outputlib.views.node(results, 'bus_el')['sequences'].plot(drawstyle='steps')"
   ]
  },
  {
   "cell_type": "code",
   "execution_count": null,
   "metadata": {},
   "outputs": [],
   "source": []
  }
 ],
 "metadata": {
  "kernelspec": {
   "display_name": "Python 3",
   "language": "python",
   "name": "python3"
  },
  "language_info": {
   "codemirror_mode": {
    "name": "ipython",
    "version": 3
   },
   "file_extension": ".py",
   "mimetype": "text/x-python",
   "name": "python",
   "nbconvert_exporter": "python",
   "pygments_lexer": "ipython3",
   "version": "3.6.8"
  }
 },
 "nbformat": 4,
 "nbformat_minor": 2
}
