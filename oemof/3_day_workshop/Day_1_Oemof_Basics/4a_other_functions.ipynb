{
 "cells": [
  {
   "cell_type": "markdown",
   "metadata": {},
   "source": [
    "# More features\n",
    "\n",
    "Copied from: https://github.com/rl-institut/workshop\n",
    "Not discussed in oemof workshop. Includes advanced network graphing."
   ]
  },
  {
   "cell_type": "code",
   "execution_count": 1,
   "metadata": {},
   "outputs": [],
   "source": [
    "import pandas as pd\n",
    "import networkx as nx\n",
    "import matplotlib\n",
    "import matplotlib.pyplot as plt\n",
    "import pyomo.environ as po\n",
    "\n",
    "from oemof.solph import (Sink, Source, Transformer, Bus, Flow, Model,\n",
    "                         EnergySystem, Investment, NonConvex)\n",
    "import oemof.outputlib as outputlib\n",
    "import oemof.solph as solph\n",
    "import oemof.graph as graph\n",
    "from oemof.tools import economics\n",
    "\n",
    "solver = 'cbc'\n",
    "\n",
    "%matplotlib inline\n",
    "matplotlib.rcParams['figure.figsize'] = [8.0, 6.0]"
   ]
  },
  {
   "cell_type": "code",
   "execution_count": 2,
   "metadata": {},
   "outputs": [],
   "source": [
    "color_dict ={\n",
    "             'coal': '#755d5d',\n",
    "             'gas': '#c76c56',\n",
    "             'oil': '#494a19',\n",
    "             'lignite': '#56201d',\n",
    "             'wind': '#4ca7c3',\n",
    "             'pv': '#ffde32',\n",
    "             'excess_el': '#9a9da1',\n",
    "             'pp_coal': '#755d5d',\n",
    "             'pp_gas': '#c76c56',\n",
    "             'pp_chp': '#eeac7e',\n",
    "             'b_heat_source': '#cd3333',\n",
    "             'heat_source': '#cd3333',\n",
    "             'heat_pump': '#42c77a',\n",
    "             'electricity': '#0079ff',\n",
    "             'demand_el': '#0079ff',\n",
    "             'shortage_el': '#ff2626',\n",
    "             'excess_el': '#ff2626',\n",
    "             'biomass': '#01b42e',\n",
    "             'pp_biomass': '#01b42e'}"
   ]
  },
  {
   "cell_type": "code",
   "execution_count": 3,
   "metadata": {},
   "outputs": [],
   "source": [
    "def draw_graph(energysystem, edge_labels=True, node_color='#eeac7e',\n",
    "               edge_color='#eeac7e', plot=True, node_size=5500,\n",
    "               with_labels=True, arrows=True, layout='dot'):\n",
    "    \n",
    "    grph = graph.create_nx_graph(energysystem)\n",
    "    \n",
    "    if type(node_color) is dict:\n",
    "        node_color = [node_color.get(g, '#AFAFAF') for g in grph.nodes()]\n",
    "\n",
    "    # set drawing options\n",
    "    options = {\n",
    "     'prog': 'dot',\n",
    "     'with_labels': with_labels,\n",
    "     'node_color': node_color,\n",
    "     'edge_color': edge_color,\n",
    "     'node_size': node_size,\n",
    "     'arrows': arrows,\n",
    "     'font_size': 12,\n",
    "     'font_color': 'w'\n",
    "    }\n",
    "\n",
    "    # draw graph\n",
    "    pos = nx.drawing.nx_agraph.graphviz_layout(grph, prog=layout)\n",
    "\n",
    "    nx.draw(grph, pos=pos, **options)\n",
    "\n",
    "    # add edge labels for all edges\n",
    "    if edge_labels is True and plt:\n",
    "        labels = nx.get_edge_attributes(grph, 'weight')\n",
    "        nx.draw_networkx_edge_labels(grph, pos=pos, edge_labels=labels)\n",
    "\n",
    "    # show output\n",
    "    if plot is True:\n",
    "        plt.show()\n",
    "\n",
    "def initialize_basic_energysystem(debug=False):\n",
    "    if debug:\n",
    "        periods = 2\n",
    "    else:\n",
    "        periods = 240\n",
    "    # initialize and provide data\n",
    "    datetimeindex = pd.date_range('1/1/2016', periods=periods, freq='H')\n",
    "    filename = 'input_data.csv'\n",
    "    data = pd.read_csv(filename, sep=',')\n",
    "    energysystem = EnergySystem(timeindex=datetimeindex)\n",
    "\n",
    "    # buses\n",
    "    bcoal = Bus(label='coal', balanced=False)\n",
    "    bgas = Bus(label='gas', balanced=False)\n",
    "    bel = Bus(label='electricity')\n",
    "    energysystem.add(bcoal, bgas, bel)\n",
    "\n",
    "    # sources\n",
    "    energysystem.add(Source(label='wind', outputs={bel: Flow(\n",
    "        actual_value=data['wind'], nominal_value=66.3, fixed=True)}))\n",
    "\n",
    "    energysystem.add(Source(label='pv', outputs={bel: Flow(\n",
    "        actual_value=data['pv'], nominal_value=65.3, fixed=True)}))\n",
    "\n",
    "    # excess and shortage to avoid infeasibilies\n",
    "    energysystem.add(Sink(label='excess_el', inputs={bel: Flow()}))\n",
    "    energysystem.add(Source(label='shortage_el',\n",
    "                         outputs={bel: Flow(variable_costs=100000)}))\n",
    "\n",
    "    # demands (electricity/heat)\n",
    "    energysystem.add(Sink(label='demand_el', inputs={bel: Flow(\n",
    "        nominal_value=85, actual_value=data['demand_el'], fixed=True)}))\n",
    "    \n",
    "    return bcoal, bgas, bel, energysystem\n",
    "\n",
    "\n",
    "def postprocess_and_plot(optimization_model):\n",
    "    results = outputlib.processing.results(optimization_model)\n",
    "\n",
    "    results_el = outputlib.views.node(results, 'electricity')\n",
    "\n",
    "    el_sequences = results_el['sequences']\n",
    "\n",
    "    to_el = {key[0][0]: key for key in el_sequences.keys() if key[0][1] == 'electricity' and key[1] == 'flow'}\n",
    "    to_el = [to_el.pop('pv'), to_el.pop('wind')] + list(to_el.values())\n",
    "    el_prod = el_sequences[to_el]\n",
    "\n",
    "    fig, ax = plt.subplots(figsize=(14, 3))\n",
    "    for key in el_sequences.keys():\n",
    "        color_dict[key] = color_dict[key[0][0]]\n",
    "    c=[color_dict.get(x, '#333333') for x in el_prod.columns]\n",
    "    el_prod.plot.area(ax=ax, color=c)\n",
    "    el_sequences[(('electricity', 'demand_el'), 'flow')].plot(ax=ax, linewidth=3, c='k')\n",
    "    legend = ax.legend(loc='center left', bbox_to_anchor=(1.0, 0.5)) # legend outside of plot"
   ]
  },
  {
   "cell_type": "markdown",
   "metadata": {},
   "source": [
    "### Class Nonconvex: Minimum load"
   ]
  },
  {
   "cell_type": "code",
   "execution_count": 4,
   "metadata": {},
   "outputs": [],
   "source": [
    "bcoal, bgas, bel, energysystem = initialize_basic_energysystem()\n",
    "\n",
    "pp_gas = solph.Transformer(label='pp_gas',\n",
    "                           inputs={bgas: Flow()},\n",
    "                           outputs={bel: Flow(nominal_value=80,\n",
    "                                              nonconvex=NonConvex(),\n",
    "                                              min=0.5)},\n",
    "                           conversion_factors={bel: 0.3})\n",
    "\n",
    "energysystem.add(pp_gas)"
   ]
  },
  {
   "cell_type": "code",
   "execution_count": 5,
   "metadata": {},
   "outputs": [
    {
     "ename": "ImportError",
     "evalue": "('requires pygraphviz ', 'http://pygraphviz.github.io/')",
     "output_type": "error",
     "traceback": [
      "\u001b[0;31m---------------------------------------------------------------------------\u001b[0m",
      "\u001b[0;31mModuleNotFoundError\u001b[0m                       Traceback (most recent call last)",
      "\u001b[0;32m/media/mh/Daten/PycharmProjects/oemof_workshop/venv_ubuntu/lib/python3.6/site-packages/networkx/drawing/nx_agraph.py\u001b[0m in \u001b[0;36mpygraphviz_layout\u001b[0;34m(G, prog, root, args)\u001b[0m\n\u001b[1;32m    282\u001b[0m     \u001b[0;32mtry\u001b[0m\u001b[0;34m:\u001b[0m\u001b[0;34m\u001b[0m\u001b[0;34m\u001b[0m\u001b[0m\n\u001b[0;32m--> 283\u001b[0;31m         \u001b[0;32mimport\u001b[0m \u001b[0mpygraphviz\u001b[0m\u001b[0;34m\u001b[0m\u001b[0;34m\u001b[0m\u001b[0m\n\u001b[0m\u001b[1;32m    284\u001b[0m     \u001b[0;32mexcept\u001b[0m \u001b[0mImportError\u001b[0m\u001b[0;34m:\u001b[0m\u001b[0;34m\u001b[0m\u001b[0;34m\u001b[0m\u001b[0m\n",
      "\u001b[0;31mModuleNotFoundError\u001b[0m: No module named 'pygraphviz'",
      "\nDuring handling of the above exception, another exception occurred:\n",
      "\u001b[0;31mImportError\u001b[0m                               Traceback (most recent call last)",
      "\u001b[0;32m<ipython-input-5-ddff6cfff481>\u001b[0m in \u001b[0;36m<module>\u001b[0;34m\u001b[0m\n\u001b[0;32m----> 1\u001b[0;31m \u001b[0mdraw_graph\u001b[0m\u001b[0;34m(\u001b[0m\u001b[0menergysystem\u001b[0m\u001b[0;34m,\u001b[0m \u001b[0mnode_color\u001b[0m\u001b[0;34m=\u001b[0m\u001b[0mcolor_dict\u001b[0m\u001b[0;34m)\u001b[0m\u001b[0;34m\u001b[0m\u001b[0;34m\u001b[0m\u001b[0m\n\u001b[0m",
      "\u001b[0;32m<ipython-input-3-419d7203a240>\u001b[0m in \u001b[0;36mdraw_graph\u001b[0;34m(energysystem, edge_labels, node_color, edge_color, plot, node_size, with_labels, arrows, layout)\u001b[0m\n\u001b[1;32m     21\u001b[0m \u001b[0;34m\u001b[0m\u001b[0m\n\u001b[1;32m     22\u001b[0m     \u001b[0;31m# draw graph\u001b[0m\u001b[0;34m\u001b[0m\u001b[0;34m\u001b[0m\u001b[0;34m\u001b[0m\u001b[0m\n\u001b[0;32m---> 23\u001b[0;31m     \u001b[0mpos\u001b[0m \u001b[0;34m=\u001b[0m \u001b[0mnx\u001b[0m\u001b[0;34m.\u001b[0m\u001b[0mdrawing\u001b[0m\u001b[0;34m.\u001b[0m\u001b[0mnx_agraph\u001b[0m\u001b[0;34m.\u001b[0m\u001b[0mgraphviz_layout\u001b[0m\u001b[0;34m(\u001b[0m\u001b[0mgrph\u001b[0m\u001b[0;34m,\u001b[0m \u001b[0mprog\u001b[0m\u001b[0;34m=\u001b[0m\u001b[0mlayout\u001b[0m\u001b[0;34m)\u001b[0m\u001b[0;34m\u001b[0m\u001b[0;34m\u001b[0m\u001b[0m\n\u001b[0m\u001b[1;32m     24\u001b[0m \u001b[0;34m\u001b[0m\u001b[0m\n\u001b[1;32m     25\u001b[0m     \u001b[0mnx\u001b[0m\u001b[0;34m.\u001b[0m\u001b[0mdraw\u001b[0m\u001b[0;34m(\u001b[0m\u001b[0mgrph\u001b[0m\u001b[0;34m,\u001b[0m \u001b[0mpos\u001b[0m\u001b[0;34m=\u001b[0m\u001b[0mpos\u001b[0m\u001b[0;34m,\u001b[0m \u001b[0;34m**\u001b[0m\u001b[0moptions\u001b[0m\u001b[0;34m)\u001b[0m\u001b[0;34m\u001b[0m\u001b[0;34m\u001b[0m\u001b[0m\n",
      "\u001b[0;32m/media/mh/Daten/PycharmProjects/oemof_workshop/venv_ubuntu/lib/python3.6/site-packages/networkx/drawing/nx_agraph.py\u001b[0m in \u001b[0;36mgraphviz_layout\u001b[0;34m(G, prog, root, args)\u001b[0m\n\u001b[1;32m    241\u001b[0m     \u001b[0mThis\u001b[0m \u001b[0;32mis\u001b[0m \u001b[0ma\u001b[0m \u001b[0mwrapper\u001b[0m \u001b[0;32mfor\u001b[0m \u001b[0mpygraphviz_layout\u001b[0m\u001b[0;34m.\u001b[0m\u001b[0;34m\u001b[0m\u001b[0;34m\u001b[0m\u001b[0m\n\u001b[1;32m    242\u001b[0m     \"\"\"\n\u001b[0;32m--> 243\u001b[0;31m     \u001b[0;32mreturn\u001b[0m \u001b[0mpygraphviz_layout\u001b[0m\u001b[0;34m(\u001b[0m\u001b[0mG\u001b[0m\u001b[0;34m,\u001b[0m \u001b[0mprog\u001b[0m\u001b[0;34m=\u001b[0m\u001b[0mprog\u001b[0m\u001b[0;34m,\u001b[0m \u001b[0mroot\u001b[0m\u001b[0;34m=\u001b[0m\u001b[0mroot\u001b[0m\u001b[0;34m,\u001b[0m \u001b[0margs\u001b[0m\u001b[0;34m=\u001b[0m\u001b[0margs\u001b[0m\u001b[0;34m)\u001b[0m\u001b[0;34m\u001b[0m\u001b[0;34m\u001b[0m\u001b[0m\n\u001b[0m\u001b[1;32m    244\u001b[0m \u001b[0;34m\u001b[0m\u001b[0m\n\u001b[1;32m    245\u001b[0m \u001b[0;34m\u001b[0m\u001b[0m\n",
      "\u001b[0;32m/media/mh/Daten/PycharmProjects/oemof_workshop/venv_ubuntu/lib/python3.6/site-packages/networkx/drawing/nx_agraph.py\u001b[0m in \u001b[0;36mpygraphviz_layout\u001b[0;34m(G, prog, root, args)\u001b[0m\n\u001b[1;32m    284\u001b[0m     \u001b[0;32mexcept\u001b[0m \u001b[0mImportError\u001b[0m\u001b[0;34m:\u001b[0m\u001b[0;34m\u001b[0m\u001b[0;34m\u001b[0m\u001b[0m\n\u001b[1;32m    285\u001b[0m         raise ImportError('requires pygraphviz ',\n\u001b[0;32m--> 286\u001b[0;31m                           'http://pygraphviz.github.io/')\n\u001b[0m\u001b[1;32m    287\u001b[0m     \u001b[0;32mif\u001b[0m \u001b[0mroot\u001b[0m \u001b[0;32mis\u001b[0m \u001b[0;32mnot\u001b[0m \u001b[0;32mNone\u001b[0m\u001b[0;34m:\u001b[0m\u001b[0;34m\u001b[0m\u001b[0;34m\u001b[0m\u001b[0m\n\u001b[1;32m    288\u001b[0m         \u001b[0margs\u001b[0m \u001b[0;34m+=\u001b[0m \u001b[0;34m\"-Groot=%s\"\u001b[0m \u001b[0;34m%\u001b[0m \u001b[0mroot\u001b[0m\u001b[0;34m\u001b[0m\u001b[0;34m\u001b[0m\u001b[0m\n",
      "\u001b[0;31mImportError\u001b[0m: ('requires pygraphviz ', 'http://pygraphviz.github.io/')"
     ]
    }
   ],
   "source": [
    "draw_graph(energysystem, node_color=color_dict)"
   ]
  },
  {
   "cell_type": "code",
   "execution_count": null,
   "metadata": {},
   "outputs": [],
   "source": [
    "# create optimization model based on energy_system\n",
    "optimization_model = Model(energysystem=energysystem)\n",
    "\n",
    "# solve problem\n",
    "optimization_model.solve(solver=solver,\n",
    "                         solve_kwargs={'tee': False, 'keepfiles': False},\n",
    "                         tcmdline_options={'AllowableGap': 0.01})\n",
    "\n",
    "postprocess_and_plot(optimization_model)\n",
    "\n",
    "results = outputlib.processing.convert_keys_to_strings(outputlib.processing.results(optimization_model))\n",
    "\n",
    "fig2, ax2 = plt.subplots(figsize=(14, 3))\n",
    "results[('pp_gas','electricity')]['sequences']['flow'].plot(ax=ax2, label=(('pp_gas','electricity'),'flow'))\n",
    "legend = ax2.legend(loc='center left', bbox_to_anchor=(1.0, 0.5)) # legend outside of plot"
   ]
  },
  {
   "cell_type": "markdown",
   "metadata": {},
   "source": [
    "# Startup costs"
   ]
  },
  {
   "cell_type": "code",
   "execution_count": null,
   "metadata": {},
   "outputs": [],
   "source": [
    "bcoal, bgas, bel, energysystem = initialize_basic_energysystem()\n",
    "\n",
    "pp_gas = Source(label='pp_gas',\n",
    "                 outputs={bel: solph.Flow(nominal_value=30,\n",
    "                                          variable_costs=15)})\n",
    "\n",
    "# shutdown costs only work in combination with a minimum load\n",
    "# since otherwise the status variable is \"allowed\" to be active i.e.\n",
    "# it permanently has a value of one which does not allow to set the shutdown\n",
    "# variable which is set to one if the status variable changes from one to zero\n",
    "\n",
    "pp_coal = Source(label='pp_coal',\n",
    "                outputs={bel: solph.Flow(nominal_value=60, \n",
    "                                         min=0.5, \n",
    "                                         max=1.0, \n",
    "                                         variable_costs=10,\n",
    "                                         nonconvex=solph.NonConvex(startup_costs=80,\n",
    "                                                                   shutdown_costs=80))})\n",
    "\n",
    "energysystem.add(pp_coal, pp_gas)"
   ]
  },
  {
   "cell_type": "code",
   "execution_count": null,
   "metadata": {},
   "outputs": [],
   "source": [
    "# create optimization model based on energy_system\n",
    "optimization_model = Model(energysystem=energysystem)\n",
    "\n",
    "# solve problem\n",
    "optimization_model.solve(solver=solver,\n",
    "                         solve_kwargs={'tee': False, 'keepfiles': False})\n",
    "\n",
    "postprocess_and_plot(optimization_model)\n",
    "\n",
    "results = outputlib.processing.convert_keys_to_strings(outputlib.processing.results(optimization_model))\n",
    "\n",
    "fig2, ax2 = plt.subplots(figsize=(14, 3))\n",
    "results[('pp_coal','electricity')]['sequences']['flow'].plot(ax=ax2, label=(('pp_coal','electricity'),'flow'))\n",
    "legend = ax2.legend(loc='center left', bbox_to_anchor=(1.0, 0.5)) # legend outside of plot"
   ]
  },
  {
   "cell_type": "markdown",
   "metadata": {},
   "source": [
    "# Minimum up and down times"
   ]
  },
  {
   "cell_type": "code",
   "execution_count": null,
   "metadata": {},
   "outputs": [],
   "source": [
    "bcoal, bgas, bel, energysystem = initialize_basic_energysystem()\n",
    "\n",
    "pp_coal = Source(label='pp_coal',\n",
    "                 outputs={bel: solph.Flow(nominal_value=60,\n",
    "                                          min=0.5,\n",
    "                                          max=1.0,\n",
    "                                          variable_costs=10,\n",
    "                                          nonconvex=solph.NonConvex(minimum_downtime=1,\n",
    "                                                                    initial_status=0))})\n",
    "\n",
    "pp_gas = Source(label='pp_gas',\n",
    "                outputs={bel: solph.Flow(nominal_value=60,\n",
    "                                         min=0.5,\n",
    "                                         max=1.0,\n",
    "                                         variable_costs=10,\n",
    "                                         nonconvex=solph.NonConvex(minimum_uptime=1,\n",
    "                                                                   initial_status=1))})\n",
    "\n",
    "energysystem.add(pp_coal, pp_gas)"
   ]
  },
  {
   "cell_type": "code",
   "execution_count": null,
   "metadata": {},
   "outputs": [],
   "source": [
    "# create optimization model based on energy_system\n",
    "optimization_model = Model(energysystem=energysystem)\n",
    "\n",
    "# solve problem\n",
    "optimization_model.solve(solver=solver,\n",
    "                         solve_kwargs={'tee': False, 'keepfiles': False})\n",
    "\n",
    "postprocess_and_plot(optimization_model)\n",
    "\n",
    "results = outputlib.processing.convert_keys_to_strings(outputlib.processing.results(optimization_model))\n",
    "\n",
    "fig2, axes = plt.subplots(2, 1, figsize=(14, 5))\n",
    "results[('pp_coal','electricity')]['sequences']['flow'].plot(ax=axes[0], label=(('pp_coal','electricity'),'flow'))\n",
    "results[('pp_gas','electricity')]['sequences']['flow'].plot(ax=axes[1], label=(('pp_gas','electricity'),'flow'))\n",
    "for i in [0, 1]:\n",
    "    axes[i].legend(loc='center left', bbox_to_anchor=(1.0, 0.5)) # legend outside of plot"
   ]
  },
  {
   "cell_type": "markdown",
   "metadata": {},
   "source": [
    "# Additional constraints\n",
    "### Emission constraints"
   ]
  },
  {
   "cell_type": "code",
   "execution_count": null,
   "metadata": {},
   "outputs": [],
   "source": [
    "bcoal, bgas, bel, energysystem = initialize_basic_energysystem()\n",
    "\n",
    "# power plants\n",
    "energysystem.add(Transformer(\n",
    "    label='pp_coal',\n",
    "    inputs={bcoal: Flow()},\n",
    "    outputs={bel: Flow(nominal_value=20.2, variable_costs=25)},\n",
    "    conversion_factors={bel: 0.39}))\n",
    "\n",
    "pp_gas = Transformer(\n",
    "    label='pp_gas',\n",
    "    inputs={bgas: Flow()},\n",
    "    outputs={bel: Flow(nominal_value=41, variable_costs=40)},\n",
    "    conversion_factors={bel: 0.50})\n",
    "energysystem.add(pp_gas)"
   ]
  },
  {
   "cell_type": "code",
   "execution_count": null,
   "metadata": {},
   "outputs": [],
   "source": [
    "draw_graph(energysystem, node_color=color_dict)"
   ]
  },
  {
   "cell_type": "code",
   "execution_count": null,
   "metadata": {},
   "outputs": [],
   "source": [
    "# create the model\n",
    "optimization_model = Model(energysystem)\n",
    "\n",
    "emission_limit = 8000\n",
    "emission_factor = {}\n",
    "emission_factor['gas'] = 0.27 # tCO2/MWh\n",
    "emission_factor['coal'] = 0.39 # tCO2/MWh\n",
    "\n",
    "# add specific emission values to flow objects if source is a commodity bus\n",
    "for s, t in optimization_model.flows.keys():\n",
    "    if s is bgas:\n",
    "        optimization_model.flows[s, t].emission_factor = emission_factor['gas']\n",
    "    if s is bcoal:\n",
    "        optimization_model.flows[s, t].emission_factor = emission_factor['coal']\n",
    "\n",
    "# Add a new pyomo Block\n",
    "myblock = po.Block()\n",
    "\n",
    "# pyomo does not need a po.Set, we can use a simple list as well\n",
    "myblock.COMMODITYFLOWS = [k for (k, v) in optimization_model.flows.items()\n",
    "                          if hasattr(v, 'emission_factor')]\n",
    "\n",
    "# add emission constraint\n",
    "myblock.emission_constr = po.Constraint(expr=(\n",
    "        sum(optimization_model.flow[i, o, t] *\n",
    "            optimization_model.flows[i, o].emission_factor\n",
    "            for (i, o) in myblock.COMMODITYFLOWS\n",
    "            for t in optimization_model.TIMESTEPS) <= emission_limit))\n",
    "\n",
    "# add the sub-model to the oemof Model instance\n",
    "optimization_model.add_component('MyBlock', myblock)"
   ]
  },
  {
   "cell_type": "code",
   "execution_count": null,
   "metadata": {},
   "outputs": [],
   "source": [
    "# solve problem\n",
    "optimization_model.solve(solver=solver,\n",
    "                         solve_kwargs={'tee': False, 'keepfiles': False})\n",
    "\n",
    "postprocess_and_plot(optimization_model)\n",
    "\n",
    "results = outputlib.processing.convert_keys_to_strings(outputlib.processing.results(optimization_model))\n",
    "emissions = {k[0]: v['sequences']['flow'].sum() * emission_factor[k[0]] for k, v in results.items() if (k[0] == 'gas') or (k[0] == 'coal')}\n",
    "\n",
    "print('Emissions: ', emissions)\n",
    "print('Total emissions: ', sum(emissions.values()))"
   ]
  },
  {
   "cell_type": "code",
   "execution_count": null,
   "metadata": {},
   "outputs": [],
   "source": [
    "myblock.display()"
   ]
  },
  {
   "cell_type": "code",
   "execution_count": null,
   "metadata": {},
   "outputs": [],
   "source": [
    "# for v in optimization_model.component_objects(po.Constraint, descend_into=True):\n",
    "#     print(\"FOUND VAR:\" + v.name)\n",
    "#     print('\\n    ')\n",
    "#     v.pprint()\n",
    "#     print('\\n    ')"
   ]
  },
  {
   "cell_type": "markdown",
   "metadata": {},
   "source": [
    "### Overall investment constraint"
   ]
  },
  {
   "cell_type": "code",
   "execution_count": null,
   "metadata": {},
   "outputs": [],
   "source": [
    "bcoal, bgas, bel, energysystem = initialize_basic_energysystem()\n",
    "\n",
    "investment_max = 90000\n",
    "\n",
    "epc_c = economics.annuity(capex=10000, n=20, wacc=0.05)\n",
    "epc_g = economics.annuity(capex=20000, n=20, wacc=0.05)\n",
    "\n",
    "# power plants\n",
    "energysystem.add(Transformer(\n",
    "    label='pp_coal',\n",
    "    inputs={bcoal: Flow()},\n",
    "    outputs={bel: Flow(investment=solph.Investment(ep_costs=epc_c, maximum=30),\n",
    "                       variable_costs=25)},\n",
    "    conversion_factors={bel: 0.39}))\n",
    "\n",
    "pp_gas = Transformer(\n",
    "    label='pp_gas',\n",
    "    inputs={bgas: Flow()},\n",
    "    outputs={bel: Flow(investment=solph.Investment(ep_costs=epc_g),\n",
    "                        variable_costs=40)},\n",
    "    conversion_factors={bel: 0.50})\n",
    "energysystem.add(pp_gas)\n",
    "\n",
    "# create the model\n",
    "optimization_model = Model(energysystem)\n",
    "\n",
    "solph.constraints.investment_limit(optimization_model, investment_max)\n",
    "\n",
    "# solve problem\n",
    "optimization_model.solve(solver=solver,\n",
    "                         solve_kwargs={'tee': False, 'keepfiles': False})\n",
    "\n",
    "postprocess_and_plot(optimization_model)\n",
    "\n",
    "results = outputlib.processing.convert_keys_to_strings(outputlib.processing.results(optimization_model))\n",
    "new_capacity = {k[0]: v['scalars'][0] for k, v in results.items() if (k[0] == 'pp_gas') or (k[0] == 'pp_coal')}\n",
    "\n",
    "costs = {}\n",
    "costs['pp_coal'] = new_capacity['pp_coal'] * epc_c\n",
    "costs['pp_gas'] = new_capacity['pp_gas'] * epc_g\n",
    "print('new capacity: ')\n",
    "for k, v in new_capacity.items():\n",
    "    print(' ', k, v)\n",
    "print('\\nannualized costs :')\n",
    "for k, v in costs.items():\n",
    "    print(' ', k, v)\n",
    "print('  sum: ', sum(costs.values()))"
   ]
  },
  {
   "cell_type": "markdown",
   "metadata": {},
   "source": [
    "### Debugging"
   ]
  },
  {
   "cell_type": "code",
   "execution_count": null,
   "metadata": {},
   "outputs": [],
   "source": [
    "import os\n",
    "import oemof.tools.helpers\n",
    "\n",
    "bcoal, bgas, bel, energysystem = initialize_basic_energysystem(debug=True)\n",
    "\n",
    "pp_gas = solph.Transformer(label='pp_gas',\n",
    "                           inputs={bgas: Flow()},\n",
    "                           outputs={bel: Flow(nominal_value=80,\n",
    "                                              nonconvex=NonConvex(),\n",
    "                                              min=0.5)},\n",
    "                           conversion_factors={bel: 0.3})\n",
    "\n",
    "energysystem.add(pp_gas)\n",
    "\n",
    "# create the model\n",
    "optimization_model = Model(energysystem)\n",
    "\n"
   ]
  },
  {
   "cell_type": "code",
   "execution_count": null,
   "metadata": {},
   "outputs": [],
   "source": [
    "filename = os.path.join(oemof.tools.helpers.extend_basic_path('lp_files'),\n",
    "            'lp-file.lp')\n",
    "filename"
   ]
  },
  {
   "cell_type": "code",
   "execution_count": null,
   "metadata": {},
   "outputs": [],
   "source": [
    "optimization_model.write(filename, io_options={'symbolic_solver_labels': True})"
   ]
  }
 ],
 "metadata": {
  "kernelspec": {
   "display_name": "Python 3",
   "language": "python",
   "name": "python3"
  },
  "language_info": {
   "codemirror_mode": {
    "name": "ipython",
    "version": 3
   },
   "file_extension": ".py",
   "mimetype": "text/x-python",
   "name": "python",
   "nbconvert_exporter": "python",
   "pygments_lexer": "ipython3",
   "version": "3.6.8"
  }
 },
 "nbformat": 4,
 "nbformat_minor": 2
}
