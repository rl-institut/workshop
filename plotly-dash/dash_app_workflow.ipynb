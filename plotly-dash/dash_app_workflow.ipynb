{
 "cells": [
  {
   "cell_type": "markdown",
   "id": "af4c3f3d-675c-43bc-953c-ae477a9ac453",
   "metadata": {},
   "source": [
    "## How to I get my data into python?"
   ]
  },
  {
   "cell_type": "code",
   "execution_count": null,
   "id": "5ea1c8b7-e8f8-4606-b93b-c9d2c62b16e2",
   "metadata": {},
   "outputs": [],
   "source": [
    "import pandas as pd\n",
    "from os.path import join\n",
    "import matplotlib"
   ]
  },
  {
   "cell_type": "markdown",
   "id": "8057e33e-f58c-48bb-9321-2b5d02aedb4a",
   "metadata": {},
   "source": [
    "Load the data file using pandas"
   ]
  },
  {
   "cell_type": "code",
   "execution_count": null,
   "id": "8ba20af1-73ea-48c8-90eb-ec41bb031590",
   "metadata": {},
   "outputs": [],
   "source": [
    "data_folder = \"data/enershelf_example\"\n",
    "\n",
    "\n",
    "df = pd.read_csv(join(data_folder,\"clinic_loads.csv\"), index_col=0)\n",
    "\n",
    "df\n",
    "\n"
   ]
  },
  {
   "cell_type": "markdown",
   "id": "0ab6bdfe-2adf-4c3e-a29d-56144daeed03",
   "metadata": {},
   "source": [
    "## How do I interact with my data using python?\n",
    "\n",
    "- Using `.info()` [method]() of the DataFrames to get basic information about the columns names and their types\n",
    "\n",
    "- Using `.loc` [method](https://pandas.pydata.org/docs/reference/api/pandas.DataFrame.loc.html?highlight=loc#pandas.DataFrame.loc) of DataFrames to filter rows based on certain columns values\n",
    "\n",
    "- Using `.concat` [method](https://pandas.pydata.org/docs/reference/api/pandas.concat.html) of the DataFrames to merge two or more dataframes together\n",
    "\n",
    "- Using `.groupby` [method](https://pandas.pydata.org/docs/reference/api/pandas.DataFrame.groupby.html) of the DataFrames to group chunk of data and apply operation such as sum, mean, max etc.\n",
    "\n"
   ]
  },
  {
   "cell_type": "code",
   "execution_count": null,
   "id": "899f828d-d6b7-4e6d-ae19-c65f76e7027c",
   "metadata": {},
   "outputs": [],
   "source": [
    "df.info()"
   ]
  },
  {
   "cell_type": "code",
   "execution_count": null,
   "id": "087b4796-4f7b-4848-8087-fcaf1cba5b4f",
   "metadata": {},
   "outputs": [],
   "source": [
    "df.columns"
   ]
  },
  {
   "cell_type": "code",
   "execution_count": null,
   "id": "d4672817-1957-467a-ba94-bbd700761439",
   "metadata": {},
   "outputs": [],
   "source": [
    "df.loc[(df.hh_only>= 1000) & (df.clinic_only <=2000),[\"hh_only\", \"combi\"]]"
   ]
  },
  {
   "cell_type": "markdown",
   "id": "9c400d9b-e67f-4698-883b-d0d48706968f",
   "metadata": {},
   "source": [
    "## What do I want to show from my data (a.k.a plotting)?\n",
    "\n",
    "Looking for inspiration?\n",
    "https://plotly.com/python/\n",
    "\n",
    "If you want to engage the discussion about a certain type of plot, you could do it in https://github.com/rl-institut/plots or in the Rocket Chat Canal #RLI-Plots\n"
   ]
  },
  {
   "cell_type": "markdown",
   "id": "3cf1402e-dc6f-4940-9c9c-06c8d9078a8d",
   "metadata": {},
   "source": [
    "Plot one timeseries"
   ]
  },
  {
   "cell_type": "code",
   "execution_count": null,
   "id": "0d614580-94a0-49f8-b49d-e7c5eb129f9c",
   "metadata": {},
   "outputs": [],
   "source": [
    "import plotly.graph_objects as go\n",
    "\n",
    "fig = go.Figure()\n",
    "fig.add_trace(\n",
    "    go.Scatter(\n",
    "        x=df.index,\n",
    "        y=df[\"clinic_only\"],\n",
    "        name=\"clinic_only\",\n",
    "        marker=dict(\n",
    "            color='rgba(246, 78, 139, 0.6)',\n",
    "            line=dict(color='rgba(246, 78, 139, 1.0)', width=3)\n",
    "        )\n",
    "    )\n",
    ")\n",
    "\n",
    "fig.show()"
   ]
  },
  {
   "cell_type": "markdown",
   "id": "e3fdfba8-7383-48af-ad35-36a041f5d977",
   "metadata": {},
   "source": [
    "Plot 2 timeseries?"
   ]
  },
  {
   "cell_type": "code",
   "execution_count": null,
   "id": "a2649640-7457-4a4b-9578-da8f0ce50e08",
   "metadata": {},
   "outputs": [],
   "source": [
    "fig = go.Figure()\n",
    "fig.add_trace(\n",
    "    go.Scatter(\n",
    "        x=df.index,\n",
    "        y=df[\"clinic_only\"],\n",
    "        name=\"clinic_only\",\n",
    "        marker=dict(\n",
    "            #color='rgba(246, 78, 139, 0.6)',\n",
    "            line=dict(color='rgba(246, 78, 139, 1.0)', width=3)\n",
    "        )\n",
    "    )\n",
    ")\n",
    "fig.add_trace(\n",
    "    go.Scatter(\n",
    "        x=df.index,\n",
    "        y=df[\"hh_only\"],\n",
    "        name=\"hh_only\",\n",
    "        marker=dict(\n",
    "            color=\"black\",\n",
    "            line=dict(color='rgba(246, 78, 139, 1.0)', width=3)\n",
    "        )\n",
    "    )\n",
    ")\n",
    "\n",
    "fig.show()"
   ]
  },
  {
   "cell_type": "markdown",
   "id": "4cc7be80-ce33-4922-a5db-164496d7b887",
   "metadata": {},
   "source": [
    "Copy paste ? Normally no, but it depends on your goal, if you want to add different options to different curves and you only have a few, then copy-paste is ok, otherwise `for` loop "
   ]
  },
  {
   "cell_type": "code",
   "execution_count": null,
   "id": "8e3630ba-4598-4b90-98f8-c0a2091c2d92",
   "metadata": {},
   "outputs": [],
   "source": [
    "fig = go.Figure()\n",
    "for col_name in df.columns:\n",
    "    fig.add_trace(\n",
    "        go.Scatter(\n",
    "            x=df.index,\n",
    "            y=df[col_name],\n",
    "            name=col_name,\n",
    "        )\n",
    "    )\n",
    "\n",
    "fig.show()"
   ]
  },
  {
   "cell_type": "code",
   "execution_count": null,
   "id": "4460d1ff-8783-4802-820c-a5a6e2f0bff2",
   "metadata": {},
   "outputs": [],
   "source": [
    "fig = go.Figure()\n",
    "fig.add_trace(\n",
    "    go.Scatter(\n",
    "        x=df.index,\n",
    "        y=df[\"clinic_only\"],\n",
    "        name=\"clinic_only\",\n",
    "        marker=dict(\n",
    "            color='rgba(246, 78, 139, 0.6)',\n",
    "            line=dict(color='rgba(246, 78, 139, 1.0)', width=3)\n",
    "        ),\n",
    "        stackgroup=\"banana\" # this property is used to group some timeseries together\n",
    "    )\n",
    ")\n",
    "fig.add_trace(\n",
    "    go.Scatter(\n",
    "        x=df.index,\n",
    "        y=df[\"hh_only\"],\n",
    "        name=\"hh_only\",\n",
    "        stackgroup=\"banana\" # this then belong to the same stack group as the above line\n",
    "    )\n",
    ")\n",
    "fig.add_trace(\n",
    "    go.Scatter(\n",
    "        x=df.index,\n",
    "        y=df[\"combi\"],\n",
    "        name=\"combi\",\n",
    "    ) # this line does not belong to any stackgroup\n",
    ")\n",
    "\n",
    "fig.show()"
   ]
  },
  {
   "cell_type": "markdown",
   "id": "8dce9fe6-61d9-420c-a4c3-361a02aa9ccf",
   "metadata": {},
   "source": [
    "Here is how to define a figure from scratch"
   ]
  },
  {
   "cell_type": "code",
   "execution_count": null,
   "id": "ad63470f-9d2c-4620-acae-b60e8fdf106f",
   "metadata": {},
   "outputs": [],
   "source": [
    "fig = go.Figure(\n",
    "    data=[ # data is just a list of graph_objects, could be Bar, Scatter, Pie etc\n",
    "        go.Scatter(\n",
    "            x=df.index,\n",
    "            y=df[\"clinic_only\"],\n",
    "            name=\"clinic_only\",\n",
    "            marker=dict(\n",
    "                line=dict(color='rgba(246, 78, 139, 1.0)', width=3)\n",
    "            ),\n",
    "            marker_color='rgba(246, 78, 139, 0.6)', # is it also possible to specify nested elements with a _ between the property and the subproperty\n",
    "        )\n",
    "    ]\n",
    ")\n",
    "\n",
    "fig.show()"
   ]
  },
  {
   "cell_type": "markdown",
   "id": "20e6889d-ae70-4207-a766-e6e30fb8b64b",
   "metadata": {},
   "source": [
    "### Error messages\n",
    "\n",
    "There are here to help you, you should read them, example, typo in parameter name\n",
    "\n",
    "Deliberately making an error is also a way (at least with plotly) to get the whole list of option listed\n"
   ]
  },
  {
   "cell_type": "code",
   "execution_count": null,
   "id": "5668369f-bed0-4c20-bea6-bce3789e96b2",
   "metadata": {},
   "outputs": [],
   "source": [
    "fig = go.Figure(\n",
    "    data=[ # data is just a list of graph_objects, could be Bar, Scatter, Pie etc\n",
    "        go.Scatter(\n",
    "            x=df.index,\n",
    "            y=df[\"clinic_only\"],\n",
    "            name=\"clinic_only\",\n",
    "            marker=dict(\n",
    "                line=dict(color='rgba(246, 78, 139, 1.0)', width=3)\n",
    "            ),\n",
    "            marker_coloR='black', # is it also possible to specify nested elements with a _ between the property and the subproperty\n",
    "        )\n",
    "    ]\n",
    ")\n",
    "fig.show()"
   ]
  },
  {
   "cell_type": "markdown",
   "id": "854381f5-501a-45e1-bd98-94fefefb9c1a",
   "metadata": {},
   "source": [
    "if your dataset is tidy, then you can use plotly express"
   ]
  },
  {
   "cell_type": "code",
   "execution_count": null,
   "id": "4633ed40-31f7-442a-a670-6341f81d0941",
   "metadata": {},
   "outputs": [],
   "source": [
    "\n",
    "import plotly.express as px\n",
    "\n",
    "df = px.data.gapminder().query(\"continent=='Oceania'\")\n",
    "\n",
    "fig = px.line(df, x=\"year\", y=\"lifeExp\", color='country')\n",
    "fig.show()"
   ]
  },
  {
   "cell_type": "code",
   "execution_count": null,
   "id": "d5464845-8d28-4da2-b7c4-c40acbab6f9e",
   "metadata": {},
   "outputs": [],
   "source": [
    "df.head()"
   ]
  },
  {
   "cell_type": "markdown",
   "id": "323ceef6-3733-4d39-b948-52c8abe32eec",
   "metadata": {},
   "source": [
    "but the figure objects are the same when using `add_trace` or defining the figure from scratch\n"
   ]
  },
  {
   "cell_type": "code",
   "execution_count": null,
   "id": "db38d6ad-72e3-4523-8446-077f91a66c0b",
   "metadata": {},
   "outputs": [],
   "source": [
    "fig._data_objs"
   ]
  },
  {
   "cell_type": "markdown",
   "id": "56954d00-d96f-43fc-921a-0a23278f0896",
   "metadata": {},
   "source": [
    "## Now let's have this into a dash app\n",
    "\n",
    "This will be done in the `analyse.py` file"
   ]
  }
 ],
 "metadata": {
  "kernelspec": {
   "display_name": "Python 3 (ipykernel)",
   "language": "python",
   "name": "python3"
  },
  "language_info": {
   "codemirror_mode": {
    "name": "ipython",
    "version": 3
   },
   "file_extension": ".py",
   "mimetype": "text/x-python",
   "name": "python",
   "nbconvert_exporter": "python",
   "pygments_lexer": "ipython3",
   "version": "3.8.10"
  }
 },
 "nbformat": 4,
 "nbformat_minor": 5
}
